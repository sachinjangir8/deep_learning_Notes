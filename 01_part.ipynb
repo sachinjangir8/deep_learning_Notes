{
 "cells": [
  {
   "cell_type": "markdown",
   "id": "f4746417",
   "metadata": {},
   "source": [
    "## Artificial Neural Networks (ANNs)\n",
    "----- come in various types, each suited for different tasks. Here are the main types of ANNs:\n",
    "1. Feedforward Neural Network (FNN)\n",
    "2. Convolutional Neural Network (CNN)\n",
    "3. Recurrent Neural Network (RNN)\n",
    "4. Radial Basis Function Neural Network (RBFNN)\n",
    "5. Modular Neural Network (MNN)\n",
    "6. Generative Adversarial Network (GAN)\n",
    "7. Self-Organizing Map (SOM)\n",
    "8. Autoencoder"
   ]
  },
  {
   "cell_type": "markdown",
   "id": "9812e5ab",
   "metadata": {},
   "source": [
    "1. About ANN - https://en.wikipedia.org/wiki/Artific...\n",
    "2. About CNN - https://en.wikipedia.org/wiki/Convolu...\n",
    "3. yann le cunn - https://en.wikipedia.org/wiki/Yann_LeCun\n",
    "4. About RNN - https://en.wikipedia.org/wiki/Recurre...\n",
    "5. About Autoencoders - https://en.wikipedia.org/wiki/Autoenc...\n",
    "6. About GAN - https://machinelearningmastery.com/wh... "
   ]
  }
 ],
 "metadata": {
  "language_info": {
   "name": "python"
  }
 },
 "nbformat": 4,
 "nbformat_minor": 5
}
