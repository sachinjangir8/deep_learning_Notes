{
 "cells": [
  {
   "cell_type": "markdown",
   "id": "ebad2b40",
   "metadata": {},
   "source": [
    "## Transfer Learning"
   ]
  },
  {
   "cell_type": "markdown",
   "id": "75267dac",
   "metadata": {},
   "source": [
    "\n",
    "\n",
    "1. Feature extression:--(whaen data is same)<br>\n",
    "Keep the early layers (they capture general features like edges, textures).<br>\n",
    "Replace the last few layers with ones suitable for your task (e.g., 3 output classes for 3 leaf diseases).\n",
    "\n",
    "2. Fine-tuning:--(whaen data is not same)<br>\n",
    "when you train the LAST 1 OR 2  layers of conve_base layer ......<br>\n",
    "Either freeze early layers and train only the new layers, or<br>\n",
    "Allow some deeper layers to be updated too (called fine-tuning)."
   ]
  },
  {
   "cell_type": "markdown",
   "id": "3bebe04c",
   "metadata": {},
   "source": [
    "## feature extression--"
   ]
  },
  {
   "cell_type": "markdown",
   "id": "2cd4f3b8",
   "metadata": {},
   "source": [
    "https://colab.research.google.com/drive/1MRpoad5PJOMAWA4VFYZ0grSFqlGUs5MY#scrollTo=xAGfs36T2y0A"
   ]
  },
  {
   "cell_type": "markdown",
   "id": "8f49d8bc",
   "metadata": {},
   "source": [
    "## fine tunning--"
   ]
  },
  {
   "cell_type": "markdown",
   "id": "8b63aee6",
   "metadata": {},
   "source": [
    "https://colab.research.google.com/drive/1VxoR4vMmZJAOCsDUnfezPuFQqHdKabcL?usp=sharing#scrollTo=i9QDbgfKINH4"
   ]
  }
 ],
 "metadata": {
  "language_info": {
   "name": "python"
  }
 },
 "nbformat": 4,
 "nbformat_minor": 5
}
