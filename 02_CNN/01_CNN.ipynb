{
 "cells": [
  {
   "cell_type": "markdown",
   "id": "947078b4",
   "metadata": {},
   "source": [
    "CNNs are designed to automatically and adaptively learn spatial hierarchies of features from input images. This makes them more efficient than traditional fully connected neural networks for images."
   ]
  },
  {
   "cell_type": "markdown",
   "id": "b960cab9",
   "metadata": {},
   "source": [
    "📚 Key Components of CNN:\n",
    "\n",
    "1. Convolutional Layer--\n",
    "<br>\n",
    "Applies filters (kernels) to the image to detect features like edges, textures, shapes.\n",
    "<br>\n",
    "Each filter slides across the input image and creates a feature map.<br>\n",
    "edge --is change of intensity\n",
    "\n",
    "2. Activation Function (ReLU)--\n",
    "<br>\n",
    "Introduces non-linearity to the model, allowing it to learn complex patterns.\n",
    "\n",
    "3. Pooling Layer (e.g., Max Pooling)--\n",
    "<br>\n",
    "Reduces the spatial size (width & height) of the feature maps.\n",
    "<br>\n",
    "Makes the model more efficient and reduces overfitting.\n",
    "\n",
    "4. Fully Connected Layer--\n",
    "<br>\n",
    "Final layers that connect all neurons and perform classification.\n",
    "\n",
    "5. Output Layer--\n",
    "<br>\n",
    "Produces the final prediction (e.g., class of an object in an image)."
   ]
  },
  {
   "cell_type": "code",
   "execution_count": null,
   "id": "98475d91",
   "metadata": {},
   "outputs": [],
   "source": []
  }
 ],
 "metadata": {
  "language_info": {
   "name": "python"
  }
 },
 "nbformat": 4,
 "nbformat_minor": 5
}
