{
 "cells": [
  {
   "cell_type": "markdown",
   "id": "01c7d4ce",
   "metadata": {},
   "source": [
    "https://colab.research.google.com/drive/1uEZLBaf52kuds9eTSkwdSEapFpqkYGZ1#scrollTo=pukqJIrpDngB"
   ]
  },
  {
   "cell_type": "markdown",
   "id": "9789d598",
   "metadata": {},
   "source": [
    "## ways to reduce overfitting\n",
    "1. more data\n",
    "2. data augmentation\n",
    "3. L1/L2 regularization\n",
    "4. dropout\n",
    "5. batch norm\n",
    "6. reduce complexity"
   ]
  }
 ],
 "metadata": {
  "kernelspec": {
   "display_name": "base",
   "language": "python",
   "name": "python3"
  },
  "language_info": {
   "codemirror_mode": {
    "name": "ipython",
    "version": 3
   },
   "file_extension": ".py",
   "mimetype": "text/x-python",
   "name": "python",
   "nbconvert_exporter": "python",
   "pygments_lexer": "ipython3",
   "version": "3.12.7"
  }
 },
 "nbformat": 4,
 "nbformat_minor": 5
}
