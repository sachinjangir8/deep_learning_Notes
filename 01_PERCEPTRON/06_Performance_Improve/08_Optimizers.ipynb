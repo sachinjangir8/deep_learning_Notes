{
 "cells": [
  {
   "cell_type": "markdown",
   "id": "cf511f3c",
   "metadata": {},
   "source": [
    "## Optimizers\n",
    "--Optimizers are algorithms that adjust the model weights (parameters) to minimize the loss function during training. They are the engine of learning in neural networks."
   ]
  },
  {
   "cell_type": "markdown",
   "id": "0f4b600a",
   "metadata": {},
   "source": [
    "📘 **What is EWMA (Exponentially Weighted Moving Average)?**---<br>\n",
    "EWMA is a smoothing technique that gives more weight to recent observations while still considering the full history. It's widely used in time series, momentum-based optimizers (like Adam), and financial data analysis.\n",
    "\n",
    "📊 *Why Use EWMA?*<br>\n",
    "Captures trends without noise<br>\n",
    "Used in optimizers like Adam to track running averages of gradients<br>\n",
    "Useful for anomaly detection in real-time data"
   ]
  },
  {
   "cell_type": "code",
   "execution_count": 1,
   "id": "2d6f06b7",
   "metadata": {},
   "outputs": [
    {
     "name": "stdout",
     "output_type": "stream",
     "text": [
      "[0.9999999999999998, 2.0999999999999996, 3.3899999999999992, 4.450999999999999, 5.3058999999999985, 6.375309999999998, 7.537778999999998, 8.484001099999999, 9.635600989999999]\n"
     ]
    }
   ],
   "source": [
    "def EWMA(data, beta):\n",
    "    v = 0\n",
    "    result = []\n",
    "    for x in data:\n",
    "        v = beta * v + (1 - beta) * x\n",
    "        result.append(v)\n",
    "    return result\n",
    "\n",
    "# Example\n",
    "data = [10, 12, 15, 14, 13, 16, 18, 17, 20]\n",
    "smoothed = EWMA(data, beta=0.9)\n",
    "print(smoothed)\n"
   ]
  },
  {
   "cell_type": "code",
   "execution_count": null,
   "id": "1146a728",
   "metadata": {},
   "outputs": [
    {
     "name": "stdout",
     "output_type": "stream",
     "text": [
      "   value       ewma\n",
      "0     10  10.000000\n",
      "1     12  11.000000\n",
      "2     15  13.000000\n",
      "3     14  13.500000\n",
      "4     13  13.250000\n",
      "5     16  14.625000\n",
      "6     18  16.312500\n",
      "7     17  16.656250\n",
      "8     20  18.328125\n"
     ]
    },
    {
     "ename": "",
     "evalue": "",
     "output_type": "error",
     "traceback": [
      "\u001b[1;31mThe Kernel crashed while executing code in the current cell or a previous cell. \n",
      "\u001b[1;31mPlease review the code in the cell(s) to identify a possible cause of the failure. \n",
      "\u001b[1;31mClick <a href='https://aka.ms/vscodeJupyterKernelCrash'>here</a> for more info. \n",
      "\u001b[1;31mView Jupyter <a href='command:jupyter.viewOutput'>log</a> for further details."
     ]
    }
   ],
   "source": [
    "import pandas as pd\n",
    "df = pd.DataFrame(data, columns=[\"value\"])\n",
    "\n",
    "# Apply EWMA with a span of 3\n",
    "df[\"ewma\"] = df[\"value\"].ewm(span=3, adjust=False).mean()\n",
    "\n",
    "print(df)\n"
   ]
  },
  {
   "cell_type": "markdown",
   "id": "b12d4ae9",
   "metadata": {},
   "source": [
    "1. SGD (Stochastic Gradient Descent) with momentum--\n",
    "---here momentum and gradient will be catculated at the same time\n",
    "<br>\n",
    "2. NAG (Nesterov Accelerated Gradient)--\n",
    "---here momentum will be catculated first then gradient / LOOK HEAD<br>"
   ]
  },
  {
   "cell_type": "code",
   "execution_count": null,
   "id": "0ccc6ad3",
   "metadata": {},
   "outputs": [],
   "source": [
    "\n",
    "from tensorflow.keras.optimizers import SGD\n",
    "# Compile model with SGD optimizer\n",
    "model.compile(optimizer=SGD(learning_rate=0.01,momentum=0.0), loss='binary_crossentropy', metrics=['accuracy'])\n"
   ]
  },
  {
   "cell_type": "markdown",
   "id": "92a98f9c",
   "metadata": {},
   "source": [
    "3. AdaGrad Gradient--here we change the value of learning rate for every paramiter (gradient and deravative) It is fast bot do not use it in NN<br>\n",
    "4. RMSprop<br>\n",
    "5. Adam<br>\n",
    "6. Batch gradient decent<br>"
   ]
  },
  {
   "cell_type": "markdown",
   "id": "b8fb3694",
   "metadata": {},
   "source": []
  }
 ],
 "metadata": {
  "kernelspec": {
   "display_name": "base",
   "language": "python",
   "name": "python3"
  },
  "language_info": {
   "codemirror_mode": {
    "name": "ipython",
    "version": 3
   },
   "file_extension": ".py",
   "mimetype": "text/x-python",
   "name": "python",
   "nbconvert_exporter": "python",
   "pygments_lexer": "ipython3",
   "version": "3.12.7"
  }
 },
 "nbformat": 4,
 "nbformat_minor": 5
}
