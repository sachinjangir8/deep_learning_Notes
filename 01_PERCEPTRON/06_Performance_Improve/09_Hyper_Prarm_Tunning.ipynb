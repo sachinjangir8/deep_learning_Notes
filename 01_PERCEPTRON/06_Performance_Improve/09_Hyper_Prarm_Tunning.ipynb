{
 "cells": [
  {
   "cell_type": "markdown",
   "id": "030f1e44",
   "metadata": {},
   "source": [
    "## ***Hyper paramiter Tunning***--"
   ]
  },
  {
   "cell_type": "markdown",
   "id": "87ac03dc",
   "metadata": {},
   "source": [
    "google-colab---\n",
    "https://colab.research.google.com/drive/1jtcX94PEPti8soKnEbR02zFCABwbnnUz#scrollTo=NL9xDJFmG1hA"
   ]
  },
  {
   "cell_type": "markdown",
   "id": "0eae6f47",
   "metadata": {},
   "source": [
    "keras-tunner---https://keras.io/keras_tuner/getting_started/"
   ]
  }
 ],
 "metadata": {
  "kernelspec": {
   "display_name": "base",
   "language": "python",
   "name": "python3"
  },
  "language_info": {
   "codemirror_mode": {
    "name": "ipython",
    "version": 3
   },
   "file_extension": ".py",
   "mimetype": "text/x-python",
   "name": "python",
   "nbconvert_exporter": "python",
   "pygments_lexer": "ipython3",
   "version": "3.12.7"
  }
 },
 "nbformat": 4,
 "nbformat_minor": 5
}
