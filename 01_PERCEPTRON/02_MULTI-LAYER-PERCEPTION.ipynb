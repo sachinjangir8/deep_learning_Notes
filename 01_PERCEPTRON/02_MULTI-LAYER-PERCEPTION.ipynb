{
 "cells": [
  {
   "cell_type": "markdown",
   "metadata": {},
   "source": [
    "## 2. multi-layer perception and (ANN)"
   ]
  },
  {
   "cell_type": "markdown",
   "metadata": {},
   "source": [
    "it will be used when you have non-linear dataset"
   ]
  },
  {
   "cell_type": "code",
   "execution_count": 2,
   "metadata": {},
   "outputs": [
    {
     "data": {
      "text/html": [
       "<div>\n",
       "<style scoped>\n",
       "    .dataframe tbody tr th:only-of-type {\n",
       "        vertical-align: middle;\n",
       "    }\n",
       "\n",
       "    .dataframe tbody tr th {\n",
       "        vertical-align: top;\n",
       "    }\n",
       "\n",
       "    .dataframe thead th {\n",
       "        text-align: right;\n",
       "    }\n",
       "</style>\n",
       "<table border=\"1\" class=\"dataframe\">\n",
       "  <thead>\n",
       "    <tr style=\"text-align: right;\">\n",
       "      <th></th>\n",
       "      <th>CreditScore</th>\n",
       "      <th>Age</th>\n",
       "      <th>Tenure</th>\n",
       "      <th>Balance</th>\n",
       "      <th>NumOfProducts</th>\n",
       "      <th>HasCrCard</th>\n",
       "      <th>IsActiveMember</th>\n",
       "      <th>EstimatedSalary</th>\n",
       "      <th>Exited</th>\n",
       "    </tr>\n",
       "  </thead>\n",
       "  <tbody>\n",
       "    <tr>\n",
       "      <th>0</th>\n",
       "      <td>402</td>\n",
       "      <td>50</td>\n",
       "      <td>9</td>\n",
       "      <td>65828.945938</td>\n",
       "      <td>2</td>\n",
       "      <td>1</td>\n",
       "      <td>0</td>\n",
       "      <td>100953.923013</td>\n",
       "      <td>0</td>\n",
       "    </tr>\n",
       "    <tr>\n",
       "      <th>1</th>\n",
       "      <td>735</td>\n",
       "      <td>45</td>\n",
       "      <td>7</td>\n",
       "      <td>11530.891084</td>\n",
       "      <td>1</td>\n",
       "      <td>1</td>\n",
       "      <td>1</td>\n",
       "      <td>173794.467090</td>\n",
       "      <td>1</td>\n",
       "    </tr>\n",
       "    <tr>\n",
       "      <th>2</th>\n",
       "      <td>570</td>\n",
       "      <td>64</td>\n",
       "      <td>1</td>\n",
       "      <td>141792.694980</td>\n",
       "      <td>2</td>\n",
       "      <td>1</td>\n",
       "      <td>1</td>\n",
       "      <td>30027.004332</td>\n",
       "      <td>0</td>\n",
       "    </tr>\n",
       "  </tbody>\n",
       "</table>\n",
       "</div>"
      ],
      "text/plain": [
       "   CreditScore  Age  Tenure        Balance  NumOfProducts  HasCrCard  \\\n",
       "0          402   50       9   65828.945938              2          1   \n",
       "1          735   45       7   11530.891084              1          1   \n",
       "2          570   64       1  141792.694980              2          1   \n",
       "\n",
       "   IsActiveMember  EstimatedSalary  Exited  \n",
       "0               0    100953.923013       0  \n",
       "1               1    173794.467090       1  \n",
       "2               1     30027.004332       0  "
      ]
     },
     "execution_count": 2,
     "metadata": {},
     "output_type": "execute_result"
    }
   ],
   "source": [
    "import numpy as np\n",
    "import pandas as pd\n",
    "\n",
    "# Set random seed for reproducibility\n",
    "np.random.seed(42)\n",
    "\n",
    "# Generate 1000 rows of synthetic data based on observed patterns\n",
    "num_rows = 1000\n",
    "\n",
    "data_large = {\n",
    "    \"CreditScore\": np.random.randint(300, 900, num_rows),\n",
    "    \"Age\": np.random.randint(18, 70, num_rows),\n",
    "    \"Tenure\": np.random.randint(0, 11, num_rows),\n",
    "    \"Balance\": np.random.uniform(0, 250000, num_rows),\n",
    "    \"NumOfProducts\": np.random.randint(1, 5, num_rows),\n",
    "    \"HasCrCard\": np.random.randint(0, 2, num_rows),\n",
    "    \"IsActiveMember\": np.random.randint(0, 2, num_rows),\n",
    "    \"EstimatedSalary\": np.random.uniform(10000, 200000, num_rows),\n",
    "    \"Exited\": np.random.randint(0, 2, num_rows)\n",
    "}\n",
    "\n",
    "# Creating DataFrame\n",
    "dataset = pd.DataFrame(data_large)\n",
    "# dataset.isnull().sum()\n",
    "dataset.head(3)\n"
   ]
  },
  {
   "cell_type": "code",
   "execution_count": 3,
   "metadata": {},
   "outputs": [],
   "source": [
    "in_p=dataset.iloc[:,:-1]\n",
    "in_o=dataset.iloc[:,-1]\n",
    "# in_o"
   ]
  },
  {
   "cell_type": "code",
   "execution_count": 4,
   "metadata": {},
   "outputs": [
    {
     "data": {
      "text/plain": [
       "(1000, 8)"
      ]
     },
     "execution_count": 4,
     "metadata": {},
     "output_type": "execute_result"
    }
   ],
   "source": [
    "in_p.shape"
   ]
  },
  {
   "cell_type": "code",
   "execution_count": 5,
   "metadata": {},
   "outputs": [],
   "source": [
    "from sklearn.model_selection import train_test_split\n",
    "\n",
    "x_train,x_test,y_train,y_test=train_test_split(in_p,in_o,test_size=0.2,random_state=42)"
   ]
  },
  {
   "cell_type": "code",
   "execution_count": 6,
   "metadata": {},
   "outputs": [],
   "source": [
    "from sklearn.preprocessing import StandardScaler\n",
    "ss=StandardScaler()\n",
    "d=ss.fit_transform(in_p)"
   ]
  },
  {
   "cell_type": "code",
   "execution_count": 7,
   "metadata": {},
   "outputs": [],
   "source": [
    "in_p=pd.DataFrame(d,columns=in_p.columns)"
   ]
  },
  {
   "cell_type": "code",
   "execution_count": 8,
   "metadata": {},
   "outputs": [],
   "source": [
    "import tensorflow"
   ]
  },
  {
   "cell_type": "markdown",
   "metadata": {},
   "source": [
    "artificial nural network bnane me help kregi"
   ]
  },
  {
   "cell_type": "code",
   "execution_count": 59,
   "metadata": {},
   "outputs": [],
   "source": [
    "from keras.layers import Dense,BatchNormalization,Dropout\n",
    "from keras.models import Sequential\n",
    "from keras.regularizers import l2"
   ]
  },
  {
   "cell_type": "markdown",
   "metadata": {},
   "source": [
    "now make the network"
   ]
  },
  {
   "cell_type": "markdown",
   "metadata": {},
   "source": [
    "kernel_regularizer is used for overfitting control"
   ]
  },
  {
   "cell_type": "code",
   "execution_count": 70,
   "metadata": {},
   "outputs": [
    {
     "name": "stderr",
     "output_type": "stream",
     "text": [
      "c:\\Users\\sachi\\anaconda3\\Lib\\site-packages\\keras\\src\\layers\\core\\dense.py:87: UserWarning: Do not pass an `input_shape`/`input_dim` argument to a layer. When using Sequential models, prefer using an `Input(shape)` object as the first layer in the model instead.\n",
      "  super().__init__(activity_regularizer=activity_regularizer, **kwargs)\n"
     ]
    }
   ],
   "source": [
    "ann=Sequential()\n",
    "ann.add(Dense(7,input_dim=8,activation=\"relu\",kernel_regularizer=l2(0.01)))\n",
    "# ann.add(BatchNormalization())\n",
    "ann.add(Dense(6,activation=\"relu\"))# Second hidden layer\n",
    "# ann.add(BatchNormalization())\n",
    "ann.add(Dense(4,activation=\"relu\"))\n",
    "# ann.add(BatchNormalization())\n",
    "ann.add(Dropout(0.20))\n",
    "ann.add(Dense(1,activation=\"sigmoid\")) # Output layer (Binary Classification)"
   ]
  },
  {
   "cell_type": "code",
   "execution_count": 71,
   "metadata": {},
   "outputs": [],
   "source": [
    "ann.compile(optimizer=\"adam\",loss=\"binary_crossentropy\",metrics=[\"accuracy\"])"
   ]
  },
  {
   "cell_type": "markdown",
   "metadata": {},
   "source": [
    "here you are training you model \n",
    "\n",
    "using validation data you can improve you model overfitting"
   ]
  },
  {
   "cell_type": "code",
   "execution_count": 72,
   "metadata": {},
   "outputs": [],
   "source": [
    "from keras.callbacks import EarlyStopping"
   ]
  },
  {
   "cell_type": "code",
   "execution_count": null,
   "metadata": {},
   "outputs": [
    {
     "name": "stdout",
     "output_type": "stream",
     "text": [
      "Epoch 1/20\n",
      "\u001b[1m4/4\u001b[0m \u001b[32m━━━━━━━━━━━━━━━━━━━━\u001b[0m\u001b[37m\u001b[0m \u001b[1m2s\u001b[0m 114ms/step - accuracy: 0.5183 - loss: 19824.0645 - val_accuracy: 0.5250 - val_loss: 18130.5586\n",
      "Epoch 2/20\n",
      "\u001b[1m4/4\u001b[0m \u001b[32m━━━━━━━━━━━━━━━━━━━━\u001b[0m\u001b[37m\u001b[0m \u001b[1m0s\u001b[0m 33ms/step - accuracy: 0.4933 - loss: 17924.2891 - val_accuracy: 0.5250 - val_loss: 17155.4863\n",
      "Epoch 3/20\n",
      "\u001b[1m4/4\u001b[0m \u001b[32m━━━━━━━━━━━━━━━━━━━━\u001b[0m\u001b[37m\u001b[0m \u001b[1m0s\u001b[0m 32ms/step - accuracy: 0.4858 - loss: 18321.0410 - val_accuracy: 0.5250 - val_loss: 16215.1338\n",
      "Epoch 4/20\n",
      "\u001b[1m4/4\u001b[0m \u001b[32m━━━━━━━━━━━━━━━━━━━━\u001b[0m\u001b[37m\u001b[0m \u001b[1m0s\u001b[0m 30ms/step - accuracy: 0.4930 - loss: 16466.3242 - val_accuracy: 0.5250 - val_loss: 15307.2646\n",
      "Epoch 5/20\n",
      "\u001b[1m4/4\u001b[0m \u001b[32m━━━━━━━━━━━━━━━━━━━━\u001b[0m\u001b[37m\u001b[0m \u001b[1m0s\u001b[0m 31ms/step - accuracy: 0.5022 - loss: 14443.7432 - val_accuracy: 0.5250 - val_loss: 14437.8926\n",
      "Epoch 6/20\n",
      "\u001b[1m4/4\u001b[0m \u001b[32m━━━━━━━━━━━━━━━━━━━━\u001b[0m\u001b[37m\u001b[0m \u001b[1m0s\u001b[0m 35ms/step - accuracy: 0.5097 - loss: 14788.1357 - val_accuracy: 0.5250 - val_loss: 13598.7158\n",
      "Epoch 7/20\n",
      "\u001b[1m4/4\u001b[0m \u001b[32m━━━━━━━━━━━━━━━━━━━━\u001b[0m\u001b[37m\u001b[0m \u001b[1m0s\u001b[0m 35ms/step - accuracy: 0.4917 - loss: 15050.0400 - val_accuracy: 0.5250 - val_loss: 12780.8623\n",
      "Epoch 8/20\n",
      "\u001b[1m4/4\u001b[0m \u001b[32m━━━━━━━━━━━━━━━━━━━━\u001b[0m\u001b[37m\u001b[0m \u001b[1m0s\u001b[0m 32ms/step - accuracy: 0.5218 - loss: 12779.7549 - val_accuracy: 0.5250 - val_loss: 11998.8301\n",
      "Epoch 9/20\n",
      "\u001b[1m4/4\u001b[0m \u001b[32m━━━━━━━━━━━━━━━━━━━━\u001b[0m\u001b[37m\u001b[0m \u001b[1m0s\u001b[0m 31ms/step - accuracy: 0.5127 - loss: 11833.1836 - val_accuracy: 0.5250 - val_loss: 11248.2070\n",
      "Epoch 10/20\n",
      "\u001b[1m4/4\u001b[0m \u001b[32m━━━━━━━━━━━━━━━━━━━━\u001b[0m\u001b[37m\u001b[0m \u001b[1m0s\u001b[0m 35ms/step - accuracy: 0.5097 - loss: 11071.0908 - val_accuracy: 0.5250 - val_loss: 10524.9678\n",
      "Epoch 11/20\n",
      "\u001b[1m4/4\u001b[0m \u001b[32m━━━━━━━━━━━━━━━━━━━━\u001b[0m\u001b[37m\u001b[0m \u001b[1m0s\u001b[0m 30ms/step - accuracy: 0.5237 - loss: 11012.5576 - val_accuracy: 0.5250 - val_loss: 9824.6328\n",
      "Epoch 12/20\n",
      "\u001b[1m4/4\u001b[0m \u001b[32m━━━━━━━━━━━━━━━━━━━━\u001b[0m\u001b[37m\u001b[0m \u001b[1m0s\u001b[0m 29ms/step - accuracy: 0.5098 - loss: 9513.7666 - val_accuracy: 0.5250 - val_loss: 9153.3740\n",
      "Epoch 13/20\n",
      "\u001b[1m4/4\u001b[0m \u001b[32m━━━━━━━━━━━━━━━━━━━━\u001b[0m\u001b[37m\u001b[0m \u001b[1m0s\u001b[0m 31ms/step - accuracy: 0.5025 - loss: 9460.0088 - val_accuracy: 0.5250 - val_loss: 8504.1777\n",
      "Epoch 14/20\n",
      "\u001b[1m4/4\u001b[0m \u001b[32m━━━━━━━━━━━━━━━━━━━━\u001b[0m\u001b[37m\u001b[0m \u001b[1m0s\u001b[0m 35ms/step - accuracy: 0.4883 - loss: 8945.8857 - val_accuracy: 0.5250 - val_loss: 7875.4424\n",
      "Epoch 15/20\n",
      "\u001b[1m4/4\u001b[0m \u001b[32m━━━━━━━━━━━━━━━━━━━━\u001b[0m\u001b[37m\u001b[0m \u001b[1m0s\u001b[0m 31ms/step - accuracy: 0.5117 - loss: 7491.5669 - val_accuracy: 0.5250 - val_loss: 7265.4736\n",
      "Epoch 16/20\n",
      "\u001b[1m4/4\u001b[0m \u001b[32m━━━━━━━━━━━━━━━━━━━━\u001b[0m\u001b[37m\u001b[0m \u001b[1m0s\u001b[0m 29ms/step - accuracy: 0.5120 - loss: 7285.3892 - val_accuracy: 0.5250 - val_loss: 6668.3677\n",
      "Epoch 17/20\n",
      "\u001b[1m4/4\u001b[0m \u001b[32m━━━━━━━━━━━━━━━━━━━━\u001b[0m\u001b[37m\u001b[0m \u001b[1m0s\u001b[0m 61ms/step - accuracy: 0.5112 - loss: 6572.6045 - val_accuracy: 0.5250 - val_loss: 6085.6343\n",
      "Epoch 18/20\n",
      "\u001b[1m4/4\u001b[0m \u001b[32m━━━━━━━━━━━━━━━━━━━━\u001b[0m\u001b[37m\u001b[0m \u001b[1m0s\u001b[0m 45ms/step - accuracy: 0.5230 - loss: 5612.4043 - val_accuracy: 0.5250 - val_loss: 5530.5342\n",
      "Epoch 19/20\n",
      "\u001b[1m4/4\u001b[0m \u001b[32m━━━━━━━━━━━━━━━━━━━━\u001b[0m\u001b[37m\u001b[0m \u001b[1m0s\u001b[0m 33ms/step - accuracy: 0.5215 - loss: 5424.5200 - val_accuracy: 0.5250 - val_loss: 5039.2061\n",
      "Epoch 20/20\n",
      "\u001b[1m4/4\u001b[0m \u001b[32m━━━━━━━━━━━━━━━━━━━━\u001b[0m\u001b[37m\u001b[0m \u001b[1m0s\u001b[0m 37ms/step - accuracy: 0.5070 - loss: 4903.4136 - val_accuracy: 0.5250 - val_loss: 4624.4224\n"
     ]
    },
    {
     "data": {
      "text/plain": [
       "<keras.src.callbacks.history.History at 0x1569037afc0>"
      ]
     },
     "execution_count": 73,
     "metadata": {},
     "output_type": "execute_result"
    }
   ],
   "source": [
    "history=ann.fit(x_train, y_train,batch_size=200,epochs=20,validation_data=(x_test, y_test),callbacks=EarlyStopping())"
   ]
  },
  {
   "cell_type": "markdown",
   "metadata": {},
   "source": [
    "overfitting ko pahacaanana"
   ]
  },
  {
   "cell_type": "code",
   "execution_count": 74,
   "metadata": {},
   "outputs": [
    {
     "data": {
      "text/plain": [
       "20"
      ]
     },
     "execution_count": 74,
     "metadata": {},
     "output_type": "execute_result"
    }
   ],
   "source": [
    "acc_train=ann.history.history['accuracy']\n",
    "acc_test=ann.history.history['val_accuracy']\n",
    "len(acc_test)"
   ]
  },
  {
   "cell_type": "code",
   "execution_count": 75,
   "metadata": {},
   "outputs": [
    {
     "data": {
      "text/plain": [
       "[<matplotlib.lines.Line2D at 0x1569045ed20>]"
      ]
     },
     "execution_count": 75,
     "metadata": {},
     "output_type": "execute_result"
    },
    {
     "data": {
      "image/png": "[encoded data removed]",
      "text/plain": [
       "<Figure size 600x300 with 1 Axes>"
      ]
     },
     "metadata": {},
     "output_type": "display_data"
    }
   ],
   "source": [
    "import matplotlib.pyplot as plt\n",
    "plt.figure(figsize=[6,3])\n",
    "plt.plot([i for i in range(1,21)],acc_train)\n",
    "plt.plot([i for i in range(1,21)],acc_test)\n"
   ]
  },
  {
   "cell_type": "code",
   "execution_count": 76,
   "metadata": {},
   "outputs": [
    {
     "name": "stdout",
     "output_type": "stream",
     "text": [
      "WARNING:tensorflow:5 out of the last 15 calls to <function TensorFlowTrainer.make_predict_function.<locals>.one_step_on_data_distributed at 0x0000015692BD28E0> triggered tf.function retracing. Tracing is expensive and the excessive number of tracings could be due to (1) creating @tf.function repeatedly in a loop, (2) passing tensors with different shapes, (3) passing Python objects instead of tensors. For (1), please define your @tf.function outside of the loop. For (2), @tf.function has reduce_retracing=True option that can avoid unnecessary retracing. For (3), please refer to https://www.tensorflow.org/guide/function#controlling_retracing and https://www.tensorflow.org/api_docs/python/tf/function for  more details.\n",
      "\u001b[1m7/7\u001b[0m \u001b[32m━━━━━━━━━━━━━━━━━━━━\u001b[0m\u001b[37m\u001b[0m \u001b[1m0s\u001b[0m 13ms/step\n"
     ]
    }
   ],
   "source": [
    "prd=ann.predict(x_test)\n",
    "# prd=ann.predict(x_train)\n"
   ]
  },
  {
   "cell_type": "code",
   "execution_count": 77,
   "metadata": {},
   "outputs": [],
   "source": [
    "# prd=ann.predict([[1.288754,-1.058076,1.016193,1.343069,1.301796,0.974329,-0.962695,-0.113442]])\n",
    "prd_data=[]\n",
    "for i in prd:\n",
    "    if i[0]>0.5:\n",
    "        prd_data.append(1)\n",
    "    else:\n",
    "        prd_data.append(0)\n",
    "\n",
    "# prd_data\n",
    "    "
   ]
  },
  {
   "cell_type": "markdown",
   "metadata": {},
   "source": [
    "here wee can not see accuracy directly"
   ]
  },
  {
   "cell_type": "code",
   "execution_count": 78,
   "metadata": {},
   "outputs": [
    {
     "data": {
      "text/plain": [
       "52.5"
      ]
     },
     "execution_count": 78,
     "metadata": {},
     "output_type": "execute_result"
    }
   ],
   "source": [
    "from sklearn.metrics import accuracy_score\n",
    "accuracy_score(y_test,prd_data)*100\n",
    "# accuracy_score(y_train,prd_data)*100\n"
   ]
  },
  {
   "cell_type": "code",
   "execution_count": null,
   "metadata": {},
   "outputs": [
    {
     "data": {
      "text/html": [
       "<div>\n",
       "<style scoped>\n",
       "    .dataframe tbody tr th:only-of-type {\n",
       "        vertical-align: middle;\n",
       "    }\n",
       "\n",
       "    .dataframe tbody tr th {\n",
       "        vertical-align: top;\n",
       "    }\n",
       "\n",
       "    .dataframe thead th {\n",
       "        text-align: right;\n",
       "    }\n",
       "</style>\n",
       "<table border=\"1\" class=\"dataframe\">\n",
       "  <thead>\n",
       "    <tr style=\"text-align: right;\">\n",
       "      <th></th>\n",
       "      <th>CreditScore</th>\n",
       "      <th>Age</th>\n",
       "      <th>Tenure</th>\n",
       "      <th>Balance</th>\n",
       "      <th>NumOfProducts</th>\n",
       "      <th>HasCrCard</th>\n",
       "      <th>IsActiveMember</th>\n",
       "      <th>EstimatedSalary</th>\n",
       "    </tr>\n",
       "  </thead>\n",
       "  <tbody>\n",
       "    <tr>\n",
       "      <th>521</th>\n",
       "      <td>1.288754</td>\n",
       "      <td>-1.058076</td>\n",
       "      <td>1.016193</td>\n",
       "      <td>1.343069</td>\n",
       "      <td>1.301796</td>\n",
       "      <td>0.974329</td>\n",
       "      <td>-0.962695</td>\n",
       "      <td>-0.113442</td>\n",
       "    </tr>\n",
       "    <tr>\n",
       "      <th>737</th>\n",
       "      <td>-1.016928</td>\n",
       "      <td>0.434178</td>\n",
       "      <td>-0.300119</td>\n",
       "      <td>-1.595774</td>\n",
       "      <td>-1.386014</td>\n",
       "      <td>0.974329</td>\n",
       "      <td>1.038750</td>\n",
       "      <td>-0.283456</td>\n",
       "    </tr>\n",
       "    <tr>\n",
       "      <th>740</th>\n",
       "      <td>1.068059</td>\n",
       "      <td>1.519453</td>\n",
       "      <td>-1.616432</td>\n",
       "      <td>0.539136</td>\n",
       "      <td>-1.386014</td>\n",
       "      <td>-1.026347</td>\n",
       "      <td>-0.962695</td>\n",
       "      <td>0.761382</td>\n",
       "    </tr>\n",
       "    <tr>\n",
       "      <th>660</th>\n",
       "      <td>-0.598769</td>\n",
       "      <td>-0.311949</td>\n",
       "      <td>-0.300119</td>\n",
       "      <td>0.437817</td>\n",
       "      <td>-0.490077</td>\n",
       "      <td>-1.026347</td>\n",
       "      <td>-0.962695</td>\n",
       "      <td>-1.246113</td>\n",
       "    </tr>\n",
       "    <tr>\n",
       "      <th>411</th>\n",
       "      <td>-1.138891</td>\n",
       "      <td>-1.600713</td>\n",
       "      <td>-0.958276</td>\n",
       "      <td>-0.891381</td>\n",
       "      <td>-1.386014</td>\n",
       "      <td>-1.026347</td>\n",
       "      <td>1.038750</td>\n",
       "      <td>0.855367</td>\n",
       "    </tr>\n",
       "    <tr>\n",
       "      <th>...</th>\n",
       "      <td>...</td>\n",
       "      <td>...</td>\n",
       "      <td>...</td>\n",
       "      <td>...</td>\n",
       "      <td>...</td>\n",
       "      <td>...</td>\n",
       "      <td>...</td>\n",
       "      <td>...</td>\n",
       "    </tr>\n",
       "    <tr>\n",
       "      <th>408</th>\n",
       "      <td>-0.192225</td>\n",
       "      <td>0.366348</td>\n",
       "      <td>0.358037</td>\n",
       "      <td>1.162645</td>\n",
       "      <td>0.405859</td>\n",
       "      <td>0.974329</td>\n",
       "      <td>-0.962695</td>\n",
       "      <td>-1.390363</td>\n",
       "    </tr>\n",
       "    <tr>\n",
       "      <th>332</th>\n",
       "      <td>-0.128340</td>\n",
       "      <td>0.162859</td>\n",
       "      <td>0.358037</td>\n",
       "      <td>-1.755240</td>\n",
       "      <td>-0.490077</td>\n",
       "      <td>0.974329</td>\n",
       "      <td>-0.962695</td>\n",
       "      <td>0.026008</td>\n",
       "    </tr>\n",
       "    <tr>\n",
       "      <th>208</th>\n",
       "      <td>-0.134148</td>\n",
       "      <td>1.383794</td>\n",
       "      <td>-0.629197</td>\n",
       "      <td>1.686961</td>\n",
       "      <td>1.301796</td>\n",
       "      <td>0.974329</td>\n",
       "      <td>-0.962695</td>\n",
       "      <td>0.673138</td>\n",
       "    </tr>\n",
       "    <tr>\n",
       "      <th>613</th>\n",
       "      <td>1.538488</td>\n",
       "      <td>-1.261565</td>\n",
       "      <td>-0.629197</td>\n",
       "      <td>1.547671</td>\n",
       "      <td>1.301796</td>\n",
       "      <td>-1.026347</td>\n",
       "      <td>-0.962695</td>\n",
       "      <td>-0.372563</td>\n",
       "    </tr>\n",
       "    <tr>\n",
       "      <th>78</th>\n",
       "      <td>0.545361</td>\n",
       "      <td>-1.532884</td>\n",
       "      <td>0.687115</td>\n",
       "      <td>-0.249753</td>\n",
       "      <td>0.405859</td>\n",
       "      <td>-1.026347</td>\n",
       "      <td>-0.962695</td>\n",
       "      <td>-0.605965</td>\n",
       "    </tr>\n",
       "  </tbody>\n",
       "</table>\n",
       "<p>200 rows × 8 columns</p>\n",
       "</div>"
      ],
      "text/plain": [
       "     CreditScore       Age    Tenure   Balance  NumOfProducts  HasCrCard  \\\n",
       "521     1.288754 -1.058076  1.016193  1.343069       1.301796   0.974329   \n",
       "737    -1.016928  0.434178 -0.300119 -1.595774      -1.386014   0.974329   \n",
       "740     1.068059  1.519453 -1.616432  0.539136      -1.386014  -1.026347   \n",
       "660    -0.598769 -0.311949 -0.300119  0.437817      -0.490077  -1.026347   \n",
       "411    -1.138891 -1.600713 -0.958276 -0.891381      -1.386014  -1.026347   \n",
       "..           ...       ...       ...       ...            ...        ...   \n",
       "408    -0.192225  0.366348  0.358037  1.162645       0.405859   0.974329   \n",
       "332    -0.128340  0.162859  0.358037 -1.755240      -0.490077   0.974329   \n",
       "208    -0.134148  1.383794 -0.629197  1.686961       1.301796   0.974329   \n",
       "613     1.538488 -1.261565 -0.629197  1.547671       1.301796  -1.026347   \n",
       "78      0.545361 -1.532884  0.687115 -0.249753       0.405859  -1.026347   \n",
       "\n",
       "     IsActiveMember  EstimatedSalary  \n",
       "521       -0.962695        -0.113442  \n",
       "737        1.038750        -0.283456  \n",
       "740       -0.962695         0.761382  \n",
       "660       -0.962695        -1.246113  \n",
       "411        1.038750         0.855367  \n",
       "..              ...              ...  \n",
       "408       -0.962695        -1.390363  \n",
       "332       -0.962695         0.026008  \n",
       "208       -0.962695         0.673138  \n",
       "613       -0.962695        -0.372563  \n",
       "78        -0.962695        -0.605965  \n",
       "\n",
       "[200 rows x 8 columns]"
      ]
     },
     "execution_count": 38,
     "metadata": {},
     "output_type": "execute_result"
    }
   ],
   "source": [
    "x_test"
   ]
  },
  {
   "cell_type": "code",
   "execution_count": null,
   "metadata": {},
   "outputs": [],
   "source": [
    "# ann.predict([[1.288754,\t-1.058076\t,1.016193\t,1.343069\t,1.301796\t,0.974329\t,-0.962695\t,-0.113442]])"
   ]
  },
  {
   "cell_type": "code",
   "execution_count": null,
   "metadata": {},
   "outputs": [],
   "source": [
    "import matplotlib.pyplot as plt\n",
    "\n",
    "plt.plot(history.history['loss'])\n",
    "plt.plot(history.history['val_loss'])"
   ]
  },
  {
   "cell_type": "code",
   "execution_count": null,
   "metadata": {},
   "outputs": [],
   "source": [
    "plt.plot(history.history['accuracy'])\n",
    "plt.plot(history.history['val_accuracy'])"
   ]
  }
 ],
 "metadata": {
  "kernelspec": {
   "display_name": "base",
   "language": "python",
   "name": "python3"
  },
  "language_info": {
   "codemirror_mode": {
    "name": "ipython",
    "version": 3
   },
   "file_extension": ".py",
   "mimetype": "text/x-python",
   "name": "python",
   "nbconvert_exporter": "python",
   "pygments_lexer": "ipython3",
   "version": "3.12.7"
  }
 },
 "nbformat": 4,
 "nbformat_minor": 2
}
